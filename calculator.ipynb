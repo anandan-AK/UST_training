{
 "cells": [
  {
   "cell_type": "code",
   "execution_count": 1,
   "id": "04821090-4c5d-44fb-9a13-1bf7b15bc4cb",
   "metadata": {},
   "outputs": [],
   "source": [
    "product =lambda x,y: x*y\n",
    "addition = lambda x,y: x+y\n",
    "subtract =lambda x,y:x-y\n",
    "division =lambda x,y:x/y\n"
   ]
  },
  {
   "cell_type": "code",
   "execution_count": null,
   "id": "aabec912-27f8-4351-8e2a-87b6be47d026",
   "metadata": {},
   "outputs": [],
   "source": [
    "x=int(input(\"enter the first number\" ))\n",
    "y=int(input(\"enter the second number\"))\n",
    "print(\"1.Product\\n 2.Addition\\n 3.Subtraction\\n 4.Division\")\n",
    "b=int(input(\"Enter the choice:\"))\n",
    "if(b==1):\n",
    "  print(product(x,y))\n",
    "elif(b==2):\n",
    "    print(addition(x,y))\n",
    "elif(b==3):\n",
    "    print(subtract(x,y))\n",
    "elif(b==4):\n",
    "    print(division(x,y))\n",
    "else:\n",
    "    print(\"Invalid entry\")"
   ]
  },
  {
   "cell_type": "code",
   "execution_count": null,
   "id": "838d8709-8edc-4a6f-89a6-f9426a057c06",
   "metadata": {},
   "outputs": [],
   "source": []
  }
 ],
 "metadata": {
  "kernelspec": {
   "display_name": "Python 3 (ipykernel)",
   "language": "python",
   "name": "python3"
  },
  "language_info": {
   "codemirror_mode": {
    "name": "ipython",
    "version": 3
   },
   "file_extension": ".py",
   "mimetype": "text/x-python",
   "name": "python",
   "nbconvert_exporter": "python",
   "pygments_lexer": "ipython3",
   "version": "3.11.0"
  }
 },
 "nbformat": 4,
 "nbformat_minor": 5
}
